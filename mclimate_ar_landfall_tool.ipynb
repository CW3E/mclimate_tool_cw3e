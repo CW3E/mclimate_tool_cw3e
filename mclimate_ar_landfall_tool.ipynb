{
 "cells": [
  {
   "cell_type": "code",
   "execution_count": 1,
   "id": "8f01a212-922a-42d4-b7da-09f65f621ff8",
   "metadata": {},
   "outputs": [],
   "source": [
    "## import libraries\n",
    "import os, sys\n",
    "import yaml\n",
    "import xarray as xr\n",
    "import pandas as pd\n",
    "import numpy as np\n",
    "from datetime import timedelta\n",
    "import re\n",
    "import shutil\n",
    "\n",
    "import glob\n",
    "%matplotlib inline\n",
    "\n",
    "import matplotlib as mpl\n",
    "mpl.use('agg')\n",
    "\n",
    "# import personal modules\n",
    "from plotter import plot_mclimate_forecast\n",
    "import mclimate_funcs as mclim_func\n",
    "from build_html_table import create_html_table"
   ]
  },
  {
   "cell_type": "code",
   "execution_count": 2,
   "id": "3d433b97-d646-4722-9694-0b865dbc82f1",
   "metadata": {},
   "outputs": [
    {
     "name": "stderr",
     "output_type": "stream",
     "text": [
      "/home/dnash/miniconda3/envs/SEAK-impacts/lib/python3.12/site-packages/xarray/backends/plugins.py:80: RuntimeWarning: Engine 'gini' loading failed:\n",
      "Struct() takes at most 1 argument (3 given)\n",
      "  warnings.warn(f\"Engine {name!r} loading failed:\\n{ex}\", RuntimeWarning)\n"
     ]
    },
    {
     "name": "stdout",
     "output_type": "stream",
     "text": [
      "08 23\n",
      "6\n",
      "12\n",
      "18\n",
      "24\n",
      "30\n",
      "36\n",
      "42\n",
      "48\n",
      "54\n",
      "60\n",
      "66\n",
      "72\n",
      "78\n",
      "84\n",
      "90\n",
      "96\n",
      "102\n",
      "108\n",
      "114\n",
      "120\n",
      "126\n",
      "132\n",
      "138\n",
      "144\n",
      "150\n",
      "156\n",
      "162\n",
      "168\n",
      "CPU times: user 43.3 s, sys: 17.8 s, total: 1min 1s\n",
      "Wall time: 30.3 s\n"
     ]
    }
   ],
   "source": [
    "%%time\n",
    "\n",
    "######################\n",
    "### VARS TO UPDATE ###\n",
    "######################\n",
    "fdate = None ## initialization date in YYYYMMDD format\n",
    "model = 'GEFS' ## 'GEFSv12_reforecast', 'GFS', 'GEFS', 'GEFS_archive'\n",
    "map_ext = [-170., -120., 40., 65.] ## map extent [minlon, maxlon, minlat, maxlat]\n",
    "table_ext = [-141., -130., 54.5, 60.] ## extent to choose the maximum value from for the table [minlon, maxlon, minlat, maxlat]\n",
    "fig_path = 'figs/images_operational/'\n",
    "os.makedirs(os.path.dirname(fig_path), exist_ok=True)\n",
    "\n",
    "###########\n",
    "### IVT ###\n",
    "###########\n",
    "varname = 'ivt' ## 'freezing_level' or 'ivt'\n",
    "forecast, ds = mclim_func.run_compare_mclimate_forecast(varname, fdate, model, server='skyriver')\n",
    "step_lst = ds.step.values\n",
    "\n",
    "for i, step in enumerate(step_lst):\n",
    "    print(step)\n",
    "    out_fname = fig_path + '{0}_mclimate_F{1}'.format(varname, step)\n",
    "    plot_mclimate_forecast(ds, forecast, step=step, varname='ivt', fname=out_fname, ext=map_ext)\n",
    "\n",
    "######################\n",
    "### FREEZING LEVEL ###\n",
    "######################\n",
    "varname = 'freezing_level'\n",
    "model = 'GEFS'\n",
    "ts = pd.to_datetime(forecast.init_date.values, format=\"%Y%m%d%H\")\n",
    "fdate = ts.strftime('%Y%m%d%H')\n",
    "forecast, ds1 = mclim_func.run_compare_mclimate_forecast(varname, fdate, model, server='skyriver')\n",
    "\n",
    "for i, step in enumerate(step_lst):\n",
    "    print(step)\n",
    "    out_fname = fig_path + '{0}_mclimate_F{1}'.format(varname, step)\n",
    "    plot_mclimate_forecast(ds1, forecast, step=step, varname='freezing_level', fname=out_fname, ext=map_ext)\n",
    "\n",
    "## put into single dataset for table\n",
    "ds = ds.rename({'mclimate': 'IVT'})\n",
    "ds1 = ds1.rename({'mclimate': 'freezing_level'})\n",
    "ds2 = xr.merge([ds, ds1])\n",
    "ds2 = ds2.sortby('lat')\n",
    "\n",
    "###################\n",
    "### BUILD TABLE ###\n",
    "###################\n",
    "df = create_html_table(ds2, table_ext)\n",
    "df"
   ]
  },
  {
   "cell_type": "code",
   "execution_count": 7,
   "id": "148dcf3d-7017-4f97-9a7a-ecaa7d2d85d7",
   "metadata": {},
   "outputs": [],
   "source": [
    "# ## dictionary of variables we need\n",
    "# gfs_vardict = {\n",
    "# \"freezing_level\": {'typeOfLevel': 'isothermZero', 'shortName': 'gh'} ## freezing level \n",
    "# }\n",
    "# path_to_data = '/data/downloaded/SCRATCH/cw3eit_scratch/GEFS/'\n",
    "# fname = '2024082312_F258.grb2'\n",
    "\n",
    "# dsa = xr.open_dataset(path_to_data+fname, engine='cfgrib',filter_by_keys=gfs_vardict)"
   ]
  },
  {
   "cell_type": "code",
   "execution_count": 8,
   "id": "0cf30502-91cc-455f-ab4c-17a93898eb55",
   "metadata": {},
   "outputs": [],
   "source": [
    "## write to text file\n",
    "html = df.to_html(index=False, formatters={'Hour': lambda x: '<b>' + x + '</b>'}, escape=False)\n",
    "\n",
    "# write html to file\n",
    "text_file = open(\"out/table.html\", \"w\")\n",
    "text_file.write(html)\n",
    "text_file.close()"
   ]
  },
  {
   "cell_type": "code",
   "execution_count": null,
   "id": "070fe8c7-107b-4486-8c65-cf088da4677d",
   "metadata": {},
   "outputs": [],
   "source": []
  }
 ],
 "metadata": {
  "kernelspec": {
   "display_name": "Python [conda env:SEAK-impacts]",
   "language": "python",
   "name": "conda-env-SEAK-impacts-py"
  },
  "language_info": {
   "codemirror_mode": {
    "name": "ipython",
    "version": 3
   },
   "file_extension": ".py",
   "mimetype": "text/x-python",
   "name": "python",
   "nbconvert_exporter": "python",
   "pygments_lexer": "ipython3",
   "version": "3.12.0"
  }
 },
 "nbformat": 4,
 "nbformat_minor": 5
}
