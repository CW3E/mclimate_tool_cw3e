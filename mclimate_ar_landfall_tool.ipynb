{
 "cells": [
  {
   "cell_type": "code",
   "execution_count": 1,
   "id": "8f01a212-922a-42d4-b7da-09f65f621ff8",
   "metadata": {},
   "outputs": [],
   "source": [
    "## import libraries\n",
    "import os, sys\n",
    "import yaml\n",
    "import xarray as xr\n",
    "import pandas as pd\n",
    "import numpy as np\n",
    "from datetime import timedelta\n",
    "import re\n",
    "import shutil\n",
    "\n",
    "import glob\n",
    "%matplotlib inline\n",
    "\n",
    "import matplotlib as mpl\n",
    "mpl.use('agg')\n",
    "\n",
    "# import personal modules\n",
    "from plotter import plot_mclimate_forecast\n",
    "import mclimate_funcs as mclim_func\n",
    "from build_html_table import create_html_table"
   ]
  },
  {
   "cell_type": "code",
   "execution_count": 2,
   "id": "3d433b97-d646-4722-9694-0b865dbc82f1",
   "metadata": {},
   "outputs": [
    {
     "name": "stderr",
     "output_type": "stream",
     "text": [
      "/home/dnash/miniconda3/envs/SEAK-impacts/lib/python3.12/site-packages/xarray/backends/plugins.py:80: RuntimeWarning: Engine 'gini' loading failed:\n",
      "Struct() takes at most 1 argument (3 given)\n",
      "  warnings.warn(f\"Engine {name!r} loading failed:\\n{ex}\", RuntimeWarning)\n"
     ]
    },
    {
     "name": "stdout",
     "output_type": "stream",
     "text": [
      "08 15\n",
      "6.0\n",
      "12.0\n",
      "18.0\n",
      "24.0\n",
      "30.0\n",
      "36.0\n",
      "42.0\n",
      "48.0\n",
      "54.0\n",
      "60.0\n",
      "66.0\n",
      "72.0\n",
      "78.0\n",
      "84.0\n",
      "90.0\n",
      "96.0\n",
      "102.0\n",
      "108.0\n",
      "114.0\n",
      "120.0\n",
      "126.0\n",
      "132.0\n",
      "138.0\n",
      "144.0\n",
      "150.0\n",
      "156.0\n",
      "162.0\n",
      "168.0\n",
      "CPU times: user 42.9 s, sys: 16.6 s, total: 59.5 s\n",
      "Wall time: 31.3 s\n"
     ]
    }
   ],
   "source": [
    "%%time\n",
    "\n",
    "######################\n",
    "### VARS TO UPDATE ###\n",
    "######################\n",
    "fdate = None ## initialization date in YYYYMMDD format\n",
    "model = 'GEFS' ## 'GEFSv12_reforecast', 'GFS', 'GEFS', 'GEFS_archive'\n",
    "map_ext = [-170., -120., 40., 65.] ## map extent [minlon, maxlon, minlat, maxlat]\n",
    "table_ext = [-141., -130., 54.5, 60.] ## extent to choose the maximum value from for the table [minlon, maxlon, minlat, maxlat]\n",
    "fig_path = 'figs/images_operational/'\n",
    "os.makedirs(os.path.dirname(fig_path), exist_ok=True)\n",
    "\n",
    "###########\n",
    "### IVT ###\n",
    "###########\n",
    "varname = 'ivt' ## 'freezing_level' or 'ivt'\n",
    "forecast, ds = mclim_func.run_compare_mclimate_forecast(varname, fdate, model)\n",
    "step_lst = ds.step.values\n",
    "\n",
    "for i, step in enumerate(step_lst):\n",
    "    print(step)\n",
    "    out_fname = fig_path + '{0}_mclimate_F{1}'.format(varname, step)\n",
    "    plot_mclimate_forecast(ds, forecast, step=step, varname='ivt', fname=out_fname, ext=map_ext)\n",
    "\n",
    "######################\n",
    "### FREEZING LEVEL ###\n",
    "######################\n",
    "varname = 'freezing_level'\n",
    "forecast, ds1 = mclim_func.run_compare_mclimate_forecast(varname, fdate, model)\n",
    "\n",
    "for i, step in enumerate(step_lst):\n",
    "    print(step)\n",
    "    out_fname = fig_path + '{0}_mclimate_F{1}'.format(varname, step)\n",
    "    plot_mclimate_forecast(ds1, forecast, step=step, varname='freezing_level', fname=out_fname, ext=map_ext)\n",
    "\n",
    "## put into single dataset for table\n",
    "ds = ds.rename({'mclimate': 'IVT'})\n",
    "ds1 = ds1.rename({'mclimate': 'freezing_level'})\n",
    "ds2 = xr.merge([ds, ds1])\n",
    "ds2 = ds2.sortby('lat')\n",
    "\n",
    "###################\n",
    "### BUILD TABLE ###\n",
    "###################\n",
    "df = create_html_table(ds2, table_ext)\n",
    "df"
   ]
  },
  {
   "cell_type": "code",
   "execution_count": 5,
   "id": "0cf30502-91cc-455f-ab4c-17a93898eb55",
   "metadata": {},
   "outputs": [],
   "source": [
    "## write to text file\n",
    "html = df.to_html(index=False, formatters={'Hour': lambda x: '<b>' + x + '</b>'}, escape=False)\n",
    "\n",
    "# write html to file\n",
    "text_file = open(\"out/table.html\", \"w\")\n",
    "text_file.write(html)\n",
    "text_file.close()"
   ]
  }
 ],
 "metadata": {
  "kernelspec": {
   "display_name": "Python [conda env:SEAK-impacts]",
   "language": "python",
   "name": "conda-env-SEAK-impacts-py"
  },
  "language_info": {
   "codemirror_mode": {
    "name": "ipython",
    "version": 3
   },
   "file_extension": ".py",
   "mimetype": "text/x-python",
   "name": "python",
   "nbconvert_exporter": "python",
   "pygments_lexer": "ipython3",
   "version": "3.12.1"
  }
 },
 "nbformat": 4,
 "nbformat_minor": 5
}
